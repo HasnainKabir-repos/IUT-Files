{
  "nbformat": 4,
  "nbformat_minor": 0,
  "metadata": {
    "colab": {
      "provenance": [],
      "gpuType": "T4"
    },
    "kernelspec": {
      "name": "python3",
      "display_name": "Python 3"
    },
    "language_info": {
      "name": "python"
    },
    "accelerator": "GPU"
  },
  "cells": [
    {
      "cell_type": "code",
      "execution_count": null,
      "metadata": {
        "collapsed": true,
        "id": "cNiIDBSZetUe"
      },
      "outputs": [],
      "source": []
    },
    {
      "cell_type": "code",
      "source": [
        "from datasets import load_dataset, DatasetDict\n",
        "\n",
        "def load_and_preprocess_dataset(dataset_name=\"DetectVul/devign\"):\n",
        "    dataset = load_dataset(dataset_name)\n",
        "\n",
        "    def convert_labels(example):\n",
        "        return {\"func\": example[\"func\"], \"target\": int(example[\"target\"])}\n",
        "\n",
        "    dataset = dataset.map(convert_labels)\n",
        "\n",
        "    dataset = dataset[\"train\"].train_test_split(test_size=0.2)\n",
        "    test_valid = dataset[\"test\"].train_test_split(test_size=0.5)\n",
        "\n",
        "    dataset = DatasetDict({\n",
        "        \"train\": dataset[\"train\"],\n",
        "        \"test\": test_valid[\"test\"],\n",
        "        \"validation\": test_valid[\"train\"]\n",
        "    })\n",
        "\n",
        "    print(f\"Dataset loaded! Train: {len(dataset['train'])}, Test: {len(dataset['test'])}, Validation: {len(dataset['validation'])}\")\n",
        "\n",
        "    return dataset\n",
        "\n",
        "raw_datasets = load_and_preprocess_dataset()"
      ],
      "metadata": {
        "colab": {
          "base_uri": "https://localhost:8080/"
        },
        "id": "lbncQPDKfAnw",
        "outputId": "c96fed74-c66e-4d64-c4e6-48b2a95030e0"
      },
      "execution_count": 1,
      "outputs": [
        {
          "output_type": "stream",
          "name": "stderr",
          "text": [
            "/usr/local/lib/python3.11/dist-packages/huggingface_hub/utils/_auth.py:94: UserWarning: \n",
            "The secret `HF_TOKEN` does not exist in your Colab secrets.\n",
            "To authenticate with the Hugging Face Hub, create a token in your settings tab (https://huggingface.co/settings/tokens), set it as secret in your Google Colab and restart your session.\n",
            "You will be able to reuse this secret in all of your notebooks.\n",
            "Please note that authentication is recommended but still optional to access public models or datasets.\n",
            "  warnings.warn(\n"
          ]
        },
        {
          "output_type": "stream",
          "name": "stdout",
          "text": [
            "Dataset loaded! Train: 17483, Test: 2186, Validation: 2185\n"
          ]
        }
      ]
    },
    {
      "cell_type": "code",
      "source": [
        "import pandas as pd\n",
        "df = pd.DataFrame(raw_datasets[\"train\"][:])\n",
        "target_stats = df[\"target\"].value_counts().reset_index()\n",
        "target_stats.columns = [\"Target Value\", \"Count\"]\n",
        "print(target_stats)\n"
      ],
      "metadata": {
        "colab": {
          "base_uri": "https://localhost:8080/"
        },
        "id": "7x6PAQslfvgR",
        "outputId": "d64faa52-fc09-4f18-bc82-64f14f44e0d8"
      },
      "execution_count": 2,
      "outputs": [
        {
          "output_type": "stream",
          "name": "stdout",
          "text": [
            "   Target Value  Count\n",
            "0         False   9518\n",
            "1          True   7965\n"
          ]
        }
      ]
    },
    {
      "cell_type": "code",
      "source": [
        "from tensorflow.keras.preprocessing.text import Tokenizer\n",
        "from tensorflow.keras.preprocessing.sequence import pad_sequences\n",
        "\n",
        "# Create tokenizer\n",
        "tokenizer = Tokenizer(num_words=10000)  # Limit vocabulary size\n",
        "tokenizer.fit_on_texts(df['func'])\n",
        "sequences = tokenizer.texts_to_sequences(df['func'])\n",
        "\n",
        "# Pad sequences to fixed length\n",
        "max_seq_length = 200  # Adjust based on your data\n",
        "X = pad_sequences(sequences, maxlen=max_seq_length, padding=\"post\")\n",
        "\n",
        "# Split into train/test\n",
        "from sklearn.model_selection import train_test_split\n",
        "X_train, X_test, y_train, y_test = train_test_split(X, df['target'], test_size=0.2)"
      ],
      "metadata": {
        "id": "drgqk5CFgi0U"
      },
      "execution_count": 3,
      "outputs": []
    },
    {
      "cell_type": "code",
      "source": [
        "from tensorflow.keras.models import Sequential\n",
        "from tensorflow.keras.layers import Embedding, Bidirectional, LSTM, Dropout, Dense, Attention, GlobalAveragePooling1D\n",
        "\n",
        "model = Sequential([\n",
        "    Embedding(input_dim=50000, output_dim=128, input_length=200),\n",
        "    Bidirectional(LSTM(128, return_sequences=True)),\n",
        "    Dropout(0.3),\n",
        "    Bidirectional(LSTM(128, return_sequences=True)),\n",
        "    Dropout(0.3),\n",
        "    # Optional: Add an attention mechanism\n",
        "    GlobalAveragePooling1D(),  # Alternatively, use a custom attention layer\n",
        "    Dense(64, activation='relu'),\n",
        "    Dropout(0.3),\n",
        "    Dense(1, activation='sigmoid')\n",
        "])\n",
        "\n",
        "model.compile(optimizer='adam', loss='binary_crossentropy', metrics=['accuracy'])\n"
      ],
      "metadata": {
        "id": "JeAWbSJii0Pr"
      },
      "execution_count": 14,
      "outputs": []
    },
    {
      "cell_type": "code",
      "source": [
        "import tensorflow as tf\n",
        "history = model.fit(\n",
        "    X_train, y_train,\n",
        "    epochs=20,\n",
        "    batch_size=16,\n",
        "    validation_data=(X_test, y_test),\n",
        "    callbacks=[\n",
        "        tf.keras.callbacks.EarlyStopping(patience=5, restore_best_weights=True)\n",
        "    ]\n",
        ")"
      ],
      "metadata": {
        "colab": {
          "base_uri": "https://localhost:8080/"
        },
        "id": "BaM_VI3gi6iW",
        "outputId": "85df7e7d-027f-45b5-c688-83001b5f17db"
      },
      "execution_count": 15,
      "outputs": [
        {
          "output_type": "stream",
          "name": "stdout",
          "text": [
            "Epoch 1/20\n",
            "\u001b[1m875/875\u001b[0m \u001b[32m━━━━━━━━━━━━━━━━━━━━\u001b[0m\u001b[37m\u001b[0m \u001b[1m44s\u001b[0m 44ms/step - accuracy: 0.5386 - loss: 0.6890 - val_accuracy: 0.5576 - val_loss: 0.7189\n",
            "Epoch 2/20\n",
            "\u001b[1m875/875\u001b[0m \u001b[32m━━━━━━━━━━━━━━━━━━━━\u001b[0m\u001b[37m\u001b[0m \u001b[1m40s\u001b[0m 45ms/step - accuracy: 0.6133 - loss: 0.6591 - val_accuracy: 0.5902 - val_loss: 0.6640\n",
            "Epoch 3/20\n",
            "\u001b[1m875/875\u001b[0m \u001b[32m━━━━━━━━━━━━━━━━━━━━\u001b[0m\u001b[37m\u001b[0m \u001b[1m40s\u001b[0m 44ms/step - accuracy: 0.6855 - loss: 0.5934 - val_accuracy: 0.6094 - val_loss: 0.6730\n",
            "Epoch 4/20\n",
            "\u001b[1m875/875\u001b[0m \u001b[32m━━━━━━━━━━━━━━━━━━━━\u001b[0m\u001b[37m\u001b[0m \u001b[1m38s\u001b[0m 44ms/step - accuracy: 0.7367 - loss: 0.5229 - val_accuracy: 0.5994 - val_loss: 0.7431\n",
            "Epoch 5/20\n",
            "\u001b[1m875/875\u001b[0m \u001b[32m━━━━━━━━━━━━━━━━━━━━\u001b[0m\u001b[37m\u001b[0m \u001b[1m40s\u001b[0m 46ms/step - accuracy: 0.7839 - loss: 0.4422 - val_accuracy: 0.5988 - val_loss: 0.8020\n",
            "Epoch 6/20\n",
            "\u001b[1m875/875\u001b[0m \u001b[32m━━━━━━━━━━━━━━━━━━━━\u001b[0m\u001b[37m\u001b[0m \u001b[1m41s\u001b[0m 46ms/step - accuracy: 0.8254 - loss: 0.3707 - val_accuracy: 0.5871 - val_loss: 0.9530\n",
            "Epoch 7/20\n",
            "\u001b[1m875/875\u001b[0m \u001b[32m━━━━━━━━━━━━━━━━━━━━\u001b[0m\u001b[37m\u001b[0m \u001b[1m38s\u001b[0m 43ms/step - accuracy: 0.8470 - loss: 0.3207 - val_accuracy: 0.5885 - val_loss: 1.1909\n"
          ]
        }
      ]
    },
    {
      "cell_type": "code",
      "source": [
        "loss, accuracy = model.evaluate(X_test, y_test)\n",
        "print(f\"Test Accuracy: {accuracy*100:.2f}%\")\n",
        "\n",
        "# Plot training history\n",
        "import matplotlib.pyplot as plt\n",
        "plt.plot(history.history[\"accuracy\"], label=\"Training Accuracy\")\n",
        "plt.plot(history.history[\"val_accuracy\"], label=\"Validation Accuracy\")\n",
        "plt.legend()\n",
        "plt.show()"
      ],
      "metadata": {
        "colab": {
          "base_uri": "https://localhost:8080/",
          "height": 465
        },
        "id": "K3woIWtzjskl",
        "outputId": "fe2843bd-f010-41e7-938e-b76e73025fad"
      },
      "execution_count": 16,
      "outputs": [
        {
          "output_type": "stream",
          "name": "stdout",
          "text": [
            "\u001b[1m110/110\u001b[0m \u001b[32m━━━━━━━━━━━━━━━━━━━━\u001b[0m\u001b[37m\u001b[0m \u001b[1m2s\u001b[0m 15ms/step - accuracy: 0.5636 - loss: 0.6746\n",
            "Test Accuracy: 59.02%\n"
          ]
        },
        {
          "output_type": "display_data",
          "data": {
            "text/plain": [
              "<Figure size 640x480 with 1 Axes>"
            ],
            "image/png": "[encoded data removed]"
          },
          "metadata": {}
        }
      ]
    },
    {
      "cell_type": "code",
      "source": [],
      "metadata": {
        "id": "FwIWWtzFoKgL"
      },
      "execution_count": null,
      "outputs": []
    }
  ]
}